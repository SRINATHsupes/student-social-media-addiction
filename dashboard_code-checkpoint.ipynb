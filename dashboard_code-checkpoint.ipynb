{
 "cells": [
  {
   "cell_type": "code",
   "execution_count": 6,
   "id": "52521716-63a1-49ce-9fb0-f7cb7b043ce7",
   "metadata": {},
   "outputs": [
    {
     "data": {
      "text/html": [
       "\n",
       "        <iframe\n",
       "            width=\"100%\"\n",
       "            height=\"650\"\n",
       "            src=\"http://127.0.0.1:8051/\"\n",
       "            frameborder=\"0\"\n",
       "            allowfullscreen\n",
       "            \n",
       "        ></iframe>\n",
       "        "
      ],
      "text/plain": [
       "<IPython.lib.display.IFrame at 0x162ba81ccb0>"
      ]
     },
     "metadata": {},
     "output_type": "display_data"
    }
   ],
   "source": [
    "import pandas as pd\n",
    "import dash\n",
    "from dash import dcc, html\n",
    "import plotly.express as px\n",
    "df = pd.read_csv(\"Downloads/smb.zip\")\n",
    "app = dash.Dash(__name__)\n",
    "app.title = \"Social Media Addiction Dashboard\"\n",
    "bar_fig = px.bar(\n",
    "    df.groupby('Country')['Addicted_Score'].mean().reset_index(),\n",
    "    x='Country', y='Addicted_Score',\n",
    "    title=\"Average Addiction Score by Country\",\n",
    "    color='Addicted_Score'\n",
    ")\n",
    "\n",
    "pie_fig = px.pie(\n",
    "    df, names='Most_Used_Platform',\n",
    "    title=\"Most Used Social Media Platforms\"\n",
    ")\n",
    "\n",
    "box_fig = px.box(\n",
    "    df, x='Academic_Level', y='Addicted_Score',\n",
    "    title=\"Addiction Score by Academic Level\",\n",
    "    color='Academic_Level'\n",
    ")\n",
    "\n",
    "app.layout = html.Div([\n",
    "    html.H1(\" Students' Social Media Addiction Dashboard\", style={'textAlign': 'center'}),\n",
    "    dcc.Graph(figure=bar_fig),\n",
    "    dcc.Graph(figure=pie_fig),\n",
    "    dcc.Graph(figure=box_fig)\n",
    "])\n",
    "\n",
    "if __name__ == '__main__':\n",
    "    app.run(debug=True, port=8051)"
   ]
  },
  {
   "cell_type": "code",
   "execution_count": null,
   "id": "ac87178a-b7e2-4c9f-b819-7e77ce40f42a",
   "metadata": {},
   "outputs": [],
   "source": []
  }
 ],
 "metadata": {
  "kernelspec": {
   "display_name": "Python 3 (ipykernel)",
   "language": "python",
   "name": "python3"
  },
  "language_info": {
   "codemirror_mode": {
    "name": "ipython",
    "version": 3
   },
   "file_extension": ".py",
   "mimetype": "text/x-python",
   "name": "python",
   "nbconvert_exporter": "python",
   "pygments_lexer": "ipython3",
   "version": "3.12.7"
  }
 },
 "nbformat": 4,
 "nbformat_minor": 5
}
